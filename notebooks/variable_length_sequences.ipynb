{
 "cells": [
  {
   "cell_type": "markdown",
   "metadata": {
    "id": "P3DGTZkQprbj"
   },
   "source": [
    "## Load the dataset\n",
    "\n",
    "Dataset homepage can be found [here](https://www.kaggle.com/datasets/hijest/genre-classification-dataset-imdb)."
   ]
  },
  {
   "cell_type": "code",
   "execution_count": 1,
   "metadata": {
    "colab": {
     "base_uri": "https://localhost:8080/"
    },
    "id": "dh_xc448coOC",
    "outputId": "532733d8-cb4b-42ae-b6ad-c9f4a5671ef2"
   },
   "outputs": [
    {
     "name": "stdout",
     "output_type": "stream",
     "text": [
      "Number of training samples: 54214.\n",
      "Number of test examples: 54200.\n"
     ]
    }
   ],
   "source": [
    "import pandas as pd\n",
    "import os\n",
    "\n",
    "data_url = \"https://hf.co/datasets/sayakpaul/genre-classification-imdb/resolve/main\"\n",
    "\n",
    "train_df = pd.read_csv(\n",
    "    os.path.join(data_url, \"train_data.txt\"),\n",
    "    engine=\"python\",\n",
    "    sep=\" ::: \",\n",
    "    names=[\"id\", \"movie\", \"genre\", \"summary\"],\n",
    ")\n",
    "\n",
    "test_df = pd.read_csv(\n",
    "    os.path.join(data_url, \"test_data_solution.txt\"),\n",
    "    engine=\"python\",\n",
    "    sep=\" ::: \",\n",
    "    names=[\"id\", \"movie\", \"genre\", \"summary\"],\n",
    ")\n",
    "\n",
    "print(f\"Number of training samples: {len(train_df)}.\")\n",
    "print(f\"Number of test examples: {len(test_df)}.\")"
   ]
  },
  {
   "cell_type": "code",
   "execution_count": 2,
   "metadata": {
    "colab": {
     "base_uri": "https://localhost:8080/",
     "height": 206
    },
    "id": "HmIu8vL6e_YY",
    "outputId": "4cc5acc3-61bc-46fc-9c0d-28968b792c5e"
   },
   "outputs": [
    {
     "data": {
      "text/html": [
       "\n",
       "  <div id=\"df-3c4a7fa9-b0cd-4a3b-bbc1-4f6f90ebad67\">\n",
       "    <div class=\"colab-df-container\">\n",
       "      <div>\n",
       "<style scoped>\n",
       "    .dataframe tbody tr th:only-of-type {\n",
       "        vertical-align: middle;\n",
       "    }\n",
       "\n",
       "    .dataframe tbody tr th {\n",
       "        vertical-align: top;\n",
       "    }\n",
       "\n",
       "    .dataframe thead th {\n",
       "        text-align: right;\n",
       "    }\n",
       "</style>\n",
       "<table border=\"1\" class=\"dataframe\">\n",
       "  <thead>\n",
       "    <tr style=\"text-align: right;\">\n",
       "      <th></th>\n",
       "      <th>id</th>\n",
       "      <th>movie</th>\n",
       "      <th>genre</th>\n",
       "      <th>summary</th>\n",
       "    </tr>\n",
       "  </thead>\n",
       "  <tbody>\n",
       "    <tr>\n",
       "      <th>0</th>\n",
       "      <td>1</td>\n",
       "      <td>Oscar et la dame rose (2009)</td>\n",
       "      <td>drama</td>\n",
       "      <td>Listening in to a conversation between his doc...</td>\n",
       "    </tr>\n",
       "    <tr>\n",
       "      <th>1</th>\n",
       "      <td>2</td>\n",
       "      <td>Cupid (1997)</td>\n",
       "      <td>thriller</td>\n",
       "      <td>A brother and sister with a past incestuous re...</td>\n",
       "    </tr>\n",
       "    <tr>\n",
       "      <th>2</th>\n",
       "      <td>3</td>\n",
       "      <td>Young, Wild and Wonderful (1980)</td>\n",
       "      <td>adult</td>\n",
       "      <td>As the bus empties the students for their fiel...</td>\n",
       "    </tr>\n",
       "    <tr>\n",
       "      <th>3</th>\n",
       "      <td>4</td>\n",
       "      <td>The Secret Sin (1915)</td>\n",
       "      <td>drama</td>\n",
       "      <td>To help their unemployed father make ends meet...</td>\n",
       "    </tr>\n",
       "    <tr>\n",
       "      <th>4</th>\n",
       "      <td>5</td>\n",
       "      <td>The Unrecovered (2007)</td>\n",
       "      <td>drama</td>\n",
       "      <td>The film's title refers not only to the un-rec...</td>\n",
       "    </tr>\n",
       "  </tbody>\n",
       "</table>\n",
       "</div>\n",
       "      <button class=\"colab-df-convert\" onclick=\"convertToInteractive('df-3c4a7fa9-b0cd-4a3b-bbc1-4f6f90ebad67')\"\n",
       "              title=\"Convert this dataframe to an interactive table.\"\n",
       "              style=\"display:none;\">\n",
       "        \n",
       "  <svg xmlns=\"http://www.w3.org/2000/svg\" height=\"24px\"viewBox=\"0 0 24 24\"\n",
       "       width=\"24px\">\n",
       "    <path d=\"M0 0h24v24H0V0z\" fill=\"none\"/>\n",
       "    <path d=\"M18.56 5.44l.94 2.06.94-2.06 2.06-.94-2.06-.94-.94-2.06-.94 2.06-2.06.94zm-11 1L8.5 8.5l.94-2.06 2.06-.94-2.06-.94L8.5 2.5l-.94 2.06-2.06.94zm10 10l.94 2.06.94-2.06 2.06-.94-2.06-.94-.94-2.06-.94 2.06-2.06.94z\"/><path d=\"M17.41 7.96l-1.37-1.37c-.4-.4-.92-.59-1.43-.59-.52 0-1.04.2-1.43.59L10.3 9.45l-7.72 7.72c-.78.78-.78 2.05 0 2.83L4 21.41c.39.39.9.59 1.41.59.51 0 1.02-.2 1.41-.59l7.78-7.78 2.81-2.81c.8-.78.8-2.07 0-2.86zM5.41 20L4 18.59l7.72-7.72 1.47 1.35L5.41 20z\"/>\n",
       "  </svg>\n",
       "      </button>\n",
       "      \n",
       "  <style>\n",
       "    .colab-df-container {\n",
       "      display:flex;\n",
       "      flex-wrap:wrap;\n",
       "      gap: 12px;\n",
       "    }\n",
       "\n",
       "    .colab-df-convert {\n",
       "      background-color: #E8F0FE;\n",
       "      border: none;\n",
       "      border-radius: 50%;\n",
       "      cursor: pointer;\n",
       "      display: none;\n",
       "      fill: #1967D2;\n",
       "      height: 32px;\n",
       "      padding: 0 0 0 0;\n",
       "      width: 32px;\n",
       "    }\n",
       "\n",
       "    .colab-df-convert:hover {\n",
       "      background-color: #E2EBFA;\n",
       "      box-shadow: 0px 1px 2px rgba(60, 64, 67, 0.3), 0px 1px 3px 1px rgba(60, 64, 67, 0.15);\n",
       "      fill: #174EA6;\n",
       "    }\n",
       "\n",
       "    [theme=dark] .colab-df-convert {\n",
       "      background-color: #3B4455;\n",
       "      fill: #D2E3FC;\n",
       "    }\n",
       "\n",
       "    [theme=dark] .colab-df-convert:hover {\n",
       "      background-color: #434B5C;\n",
       "      box-shadow: 0px 1px 3px 1px rgba(0, 0, 0, 0.15);\n",
       "      filter: drop-shadow(0px 1px 2px rgba(0, 0, 0, 0.3));\n",
       "      fill: #FFFFFF;\n",
       "    }\n",
       "  </style>\n",
       "\n",
       "      <script>\n",
       "        const buttonEl =\n",
       "          document.querySelector('#df-3c4a7fa9-b0cd-4a3b-bbc1-4f6f90ebad67 button.colab-df-convert');\n",
       "        buttonEl.style.display =\n",
       "          google.colab.kernel.accessAllowed ? 'block' : 'none';\n",
       "\n",
       "        async function convertToInteractive(key) {\n",
       "          const element = document.querySelector('#df-3c4a7fa9-b0cd-4a3b-bbc1-4f6f90ebad67');\n",
       "          const dataTable =\n",
       "            await google.colab.kernel.invokeFunction('convertToInteractive',\n",
       "                                                     [key], {});\n",
       "          if (!dataTable) return;\n",
       "\n",
       "          const docLinkHtml = 'Like what you see? Visit the ' +\n",
       "            '<a target=\"_blank\" href=https://colab.research.google.com/notebooks/data_table.ipynb>data table notebook</a>'\n",
       "            + ' to learn more about interactive tables.';\n",
       "          element.innerHTML = '';\n",
       "          dataTable['output_type'] = 'display_data';\n",
       "          await google.colab.output.renderOutput(dataTable, element);\n",
       "          const docLink = document.createElement('div');\n",
       "          docLink.innerHTML = docLinkHtml;\n",
       "          element.appendChild(docLink);\n",
       "        }\n",
       "      </script>\n",
       "    </div>\n",
       "  </div>\n",
       "  "
      ],
      "text/plain": [
       "   id                             movie     genre  \\\n",
       "0   1      Oscar et la dame rose (2009)     drama   \n",
       "1   2                      Cupid (1997)  thriller   \n",
       "2   3  Young, Wild and Wonderful (1980)     adult   \n",
       "3   4             The Secret Sin (1915)     drama   \n",
       "4   5            The Unrecovered (2007)     drama   \n",
       "\n",
       "                                             summary  \n",
       "0  Listening in to a conversation between his doc...  \n",
       "1  A brother and sister with a past incestuous re...  \n",
       "2  As the bus empties the students for their fiel...  \n",
       "3  To help their unemployed father make ends meet...  \n",
       "4  The film's title refers not only to the un-rec...  "
      ]
     },
     "execution_count": 2,
     "metadata": {},
     "output_type": "execute_result"
    }
   ],
   "source": [
    "train_df.head()"
   ]
  },
  {
   "cell_type": "markdown",
   "metadata": {
    "id": "b9WgdwUsp0A0"
   },
   "source": [
    "## Info on the sequence length"
   ]
  },
  {
   "cell_type": "code",
   "execution_count": 3,
   "metadata": {
    "colab": {
     "base_uri": "https://localhost:8080/"
    },
    "id": "HMH9Qno4f4Q-",
    "outputId": "ee04f061-e052-41c0-8553-8a6b872ab2f4"
   },
   "outputs": [
    {
     "data": {
      "text/plain": [
       "count    54214.000000\n",
       "mean       101.907386\n",
       "std         76.579192\n",
       "min          6.000000\n",
       "25%         55.000000\n",
       "50%         79.000000\n",
       "75%        121.000000\n",
       "max       1829.000000\n",
       "Name: summary, dtype: float64"
      ]
     },
     "execution_count": 3,
     "metadata": {},
     "output_type": "execute_result"
    }
   ],
   "source": [
    "def get_seq_len(x):\n",
    "    return len(x.split())\n",
    "\n",
    "\n",
    "train_df[\"summary\"].apply(get_seq_len).describe()"
   ]
  },
  {
   "cell_type": "markdown",
   "metadata": {
    "id": "235TXHCsp4T9"
   },
   "source": [
    "## Data preparation utilities"
   ]
  },
  {
   "cell_type": "code",
   "execution_count": 4,
   "metadata": {
    "id": "v5BMfrIchHTo"
   },
   "outputs": [],
   "source": [
    "from tensorflow import keras\n",
    "import tensorflow as tf\n",
    "\n",
    "auto = tf.data.AUTOTUNE\n",
    "batch_size = 128\n",
    "\n",
    "\n",
    "def initialize_encoders(padding_len=None):\n",
    "    text_vectorizer = keras.layers.TextVectorization(\n",
    "        output_sequence_length=padding_len if padding_len else None\n",
    "    )\n",
    "    text_vectorizer.adapt(train_df[\"summary\"])\n",
    "\n",
    "    label_encoder = keras.layers.StringLookup(vocabulary=train_df[\"genre\"].unique())\n",
    "    return text_vectorizer, label_encoder\n",
    "\n",
    "\n",
    "def preprocess_single_row(padding_len):\n",
    "    text_vectorizer, label_encoder = initialize_encoders(padding_len)\n",
    "\n",
    "    def fn(summary, label):\n",
    "        summary = text_vectorizer(summary)\n",
    "        label = label_encoder(label)\n",
    "        return summary, label\n",
    "\n",
    "    return fn\n",
    "\n",
    "\n",
    "def prepare_dataset(dataframe, padding_len):\n",
    "    preproc_fn = preprocess_single_row(padding_len=padding_len)\n",
    "    dataset = tf.data.Dataset.from_tensor_slices(\n",
    "        (dataframe[\"summary\"].values, dataframe[\"genre\"].values)\n",
    "    )\n",
    "    dataset = dataset.map(preproc_fn, num_parallel_calls=auto)\n",
    "    dataset = (\n",
    "        dataset.batch(batch_size) if padding_len else dataset.padded_batch(batch_size)\n",
    "    )\n",
    "    return dataset.prefetch(auto)"
   ]
  },
  {
   "cell_type": "markdown",
   "metadata": {
    "id": "6klgZLtpp7aY"
   },
   "source": [
    "## Prepare `tf.data.Dataset` objects"
   ]
  },
  {
   "cell_type": "code",
   "execution_count": 5,
   "metadata": {
    "id": "vDjhOj4ai6Rc"
   },
   "outputs": [],
   "source": [
    "training_dataset = prepare_dataset(train_df, padding_len=None)\n",
    "test_dataset = prepare_dataset(test_df, padding_len=None)"
   ]
  },
  {
   "cell_type": "markdown",
   "metadata": {
    "id": "DXP-pRZzp-qA"
   },
   "source": [
    "## Check out the maximum sequence lengths per batch"
   ]
  },
  {
   "cell_type": "code",
   "execution_count": 6,
   "metadata": {
    "colab": {
     "base_uri": "https://localhost:8080/",
     "height": 283
    },
    "id": "wYr8M3eLjEW7",
    "outputId": "267180ed-4fd6-4cc8-cba0-9f35da8f8ea1"
   },
   "outputs": [
    {
     "data": {
      "image/png": "[encoded data removed]",
      "text/plain": [
       "<Figure size 432x288 with 1 Axes>"
      ]
     },
     "metadata": {
      "needs_background": "light"
     },
     "output_type": "display_data"
    }
   ],
   "source": [
    "import matplotlib.pyplot as plt\n",
    "\n",
    "train_seq_len = []\n",
    "\n",
    "for text_batch, label_batch in training_dataset:\n",
    "    train_seq_len.append(int(text_batch.shape[1]))\n",
    "\n",
    "plt.plot(train_seq_len)\n",
    "plt.xlabel(\"Batch #\", fontsize=14)\n",
    "plt.ylabel(\"Maximum Sequence Length\", fontsize=14)\n",
    "plt.show()"
   ]
  },
  {
   "cell_type": "markdown",
   "metadata": {
    "id": "C5pZnkruqCtu"
   },
   "source": [
    "## Modeling & training utilities for $GPT-5$"
   ]
  },
  {
   "cell_type": "code",
   "execution_count": 7,
   "metadata": {
    "id": "ssLszn1vkN5h"
   },
   "outputs": [],
   "source": [
    "import time\n",
    "\n",
    "text_vectorizer, label_encoder = initialize_encoders()\n",
    "\n",
    "\n",
    "def get_gpt_5():\n",
    "    inputs = keras.Input(shape=(None,), dtype=\"int64\")\n",
    "    x = keras.layers.Embedding(\n",
    "        input_dim=text_vectorizer.vocabulary_size(),\n",
    "        output_dim=16,\n",
    "    )(inputs)\n",
    "\n",
    "    x = keras.layers.Bidirectional(keras.layers.GRU(8))(x)\n",
    "    x = keras.layers.Dense(512, activation=\"relu\")(x)\n",
    "    x = keras.layers.Dense(256, activation=\"relu\")(x)\n",
    "    outputs = keras.layers.Dense(label_encoder.vocabulary_size(), activation=\"softmax\")(\n",
    "        x\n",
    "    )\n",
    "    gpt_5 = keras.Model(inputs, outputs)\n",
    "    return gpt_5\n",
    "\n",
    "\n",
    "initial_model = get_gpt_5()\n",
    "initial_model.save_weights(\"initial_model.h5\")"
   ]
  },
  {
   "cell_type": "code",
   "execution_count": 8,
   "metadata": {
    "id": "GBVgO9oWlmLH"
   },
   "outputs": [],
   "source": [
    "epochs = 5\n",
    "\n",
    "\n",
    "def train_model(padding_len=None):\n",
    "    training_dataset = prepare_dataset(train_df, padding_len=padding_len)\n",
    "    test_dataset = prepare_dataset(test_df, padding_len=padding_len)\n",
    "\n",
    "    model = get_gpt_5()\n",
    "    model.load_weights(\"initial_model.h5\")\n",
    "    model.compile(\n",
    "        loss=\"sparse_categorical_crossentropy\", optimizer=\"adam\", metrics=[\"accuracy\"]\n",
    "    )\n",
    "\n",
    "    start_time = time.time()\n",
    "    history = model.fit(training_dataset, validation_data=test_dataset, epochs=epochs)\n",
    "    end_time = time.time()\n",
    "    total_time = end_time - start_time\n",
    "    return history, total_time\n",
    "\n",
    "\n",
    "def plot_loss(history):\n",
    "    plt.plot(history.history[\"loss\"], label=\"train_loss\")\n",
    "    plt.plot(history.history[\"val_loss\"], label=\"val_loss\")\n",
    "    plt.xlabel(\"Epochs\", fontsize=14)\n",
    "    plt.ylabel(\"Loss\", fontsize=14)\n",
    "    plt.legend()\n",
    "    plt.grid()\n",
    "    plt.show()"
   ]
  },
  {
   "cell_type": "markdown",
   "metadata": {
    "id": "ykoa9NDAqHVD"
   },
   "source": [
    "## Train a model with variable max sequence length"
   ]
  },
  {
   "cell_type": "code",
   "execution_count": 9,
   "metadata": {
    "colab": {
     "base_uri": "https://localhost:8080/",
     "height": 498
    },
    "id": "Yc9oOUJtnTNi",
    "outputId": "c83b138c-2f2f-412f-d1e4-3f91ee9d0507"
   },
   "outputs": [
    {
     "name": "stdout",
     "output_type": "stream",
     "text": [
      "Epoch 1/5\n",
      "424/424 [==============================] - 79s 174ms/step - loss: 2.1518 - accuracy: 0.3758 - val_loss: 1.8917 - val_accuracy: 0.4495\n",
      "Epoch 2/5\n",
      "424/424 [==============================] - 17s 41ms/step - loss: 1.6913 - accuracy: 0.4896 - val_loss: 1.8570 - val_accuracy: 0.4642\n",
      "Epoch 3/5\n",
      "424/424 [==============================] - 17s 41ms/step - loss: 1.4030 - accuracy: 0.5750 - val_loss: 2.0569 - val_accuracy: 0.4356\n",
      "Epoch 4/5\n",
      "424/424 [==============================] - 17s 41ms/step - loss: 1.1958 - accuracy: 0.6342 - val_loss: 2.3276 - val_accuracy: 0.3589\n",
      "Epoch 5/5\n",
      "424/424 [==============================] - 17s 41ms/step - loss: 1.0101 - accuracy: 0.6868 - val_loss: 2.5519 - val_accuracy: 0.4115\n",
      "Total training time: 148.74 seconds.\n"
     ]
    },
    {
     "data": {
      "image/png": "[encoded data removed]",
      "text/plain": [
       "<Figure size 432x288 with 1 Axes>"
      ]
     },
     "metadata": {
      "needs_background": "light"
     },
     "output_type": "display_data"
    }
   ],
   "source": [
    "history_var_seqlen, total_time_var_seqlen = train_model(padding_len=None)\n",
    "print(f\"Total training time: {total_time_var_seqlen:.2f} seconds.\")\n",
    "plot_loss(history_var_seqlen)"
   ]
  },
  {
   "cell_type": "markdown",
   "metadata": {
    "id": "FPUNQ_bgrHVF"
   },
   "source": [
    "## Train a model with fixed max sequence length"
   ]
  },
  {
   "cell_type": "code",
   "execution_count": 10,
   "metadata": {
    "colab": {
     "base_uri": "https://localhost:8080/",
     "height": 497
    },
    "id": "Fk6u2aqXqPB4",
    "outputId": "a994fb36-771c-4ec5-d026-a01ebd709c43"
   },
   "outputs": [
    {
     "name": "stdout",
     "output_type": "stream",
     "text": [
      "Epoch 1/5\n",
      "424/424 [==============================] - 89s 201ms/step - loss: 2.1611 - accuracy: 0.3739 - val_loss: 1.9052 - val_accuracy: 0.4481\n",
      "Epoch 2/5\n",
      "424/424 [==============================] - 52s 123ms/step - loss: 1.6985 - accuracy: 0.4888 - val_loss: 1.8428 - val_accuracy: 0.4679\n",
      "Epoch 3/5\n",
      "424/424 [==============================] - 52s 123ms/step - loss: 1.3981 - accuracy: 0.5770 - val_loss: 2.0430 - val_accuracy: 0.4491\n",
      "Epoch 4/5\n",
      "424/424 [==============================] - 52s 123ms/step - loss: 1.1957 - accuracy: 0.6324 - val_loss: 2.3402 - val_accuracy: 0.3523\n",
      "Epoch 5/5\n",
      "424/424 [==============================] - 52s 123ms/step - loss: 1.0191 - accuracy: 0.6838 - val_loss: 2.4492 - val_accuracy: 0.4192\n",
      "Total training time: 297.60 seconds.\n"
     ]
    },
    {
     "data": {
      "image/png": "[encoded data removed]",
      "text/plain": [
       "<Figure size 432x288 with 1 Axes>"
      ]
     },
     "metadata": {
      "needs_background": "light"
     },
     "output_type": "display_data"
    }
   ],
   "source": [
    "max_seqlen = int(train_df[\"summary\"].apply(get_seq_len).describe()[\"max\"])\n",
    "history_var_seqlen, total_time_var_seqlen = train_model(padding_len=max_seqlen)\n",
    "print(f\"Total training time: {total_time_var_seqlen:.2f} seconds.\")\n",
    "plot_loss(history_var_seqlen)"
   ]
  },
  {
   "cell_type": "markdown",
   "metadata": {
    "id": "D0mQ4S5lxJVG"
   },
   "source": [
    "## Further stuff\n",
    "\n",
    "If you want to apply same principles to more advanced models like BERT, consider checking out the following repository: [carted/handling-variable-length-text-tf](https://github.com/carted/handling-variable-length-text-tf). \n",
    "\n"
   ]
  }
 ],
 "metadata": {
  "accelerator": "GPU",
  "colab": {
   "machine_shape": "hm",
   "provenance": []
  },
  "gpuClass": "premium",
  "kernelspec": {
   "display_name": "Python 3 (ipykernel)",
   "language": "python",
   "name": "python3"
  },
  "language_info": {
   "codemirror_mode": {
    "name": "ipython",
    "version": 3
   },
   "file_extension": ".py",
   "mimetype": "text/x-python",
   "name": "python",
   "nbconvert_exporter": "python",
   "pygments_lexer": "ipython3",
   "version": "3.8.2"
  }
 },
 "nbformat": 4,
 "nbformat_minor": 1
}
